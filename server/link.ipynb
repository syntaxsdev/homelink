{
 "cells": [
  {
   "cell_type": "code",
   "execution_count": null,
   "metadata": {},
   "outputs": [],
   "source": [
    "q1 = \"turn on the lights\"\n",
    "q2 = \"what is the temperature\"\n",
    "q3 = \"text the group chat hello\"\n",
    "intents = {\"key\"}"
   ]
  },
  {
   "cell_type": "code",
   "execution_count": null,
   "metadata": {},
   "outputs": [],
   "source": [
    "from langchain_core.prompts import PromptTemplate\n",
    "from langchain.agents import initialize_agent, Tool\n",
    "from langchain_openai import OpenAI, ChatOpenAI\n",
    "\n",
    "intents = {''}\n",
    "class IntentEngine:\n",
    "    def __init__(self, llm):\n",
    "        self.llm = llm\n",
    "        ...\n",
    "\n",
    "llm = ChatOpenAI(model=\"gpt-4o-mini\")\n",
    "prompt = PromptTemplate(template=\"Determine the intent. Return key only. {input_text}\")\n",
    "agent = initialize_agent(tools=[Tool(name=\"action one\", func=action_one, description=\"the first action\"), Tool(name=\"action two\", description=\"the second action\", func=action_two)], llm=llm)\n",
    "\n",
    "\n",
    "    async def recognize_intent(self):\n",
    "        ..."
   ]
  },
  {
   "cell_type": "code",
   "execution_count": null,
   "metadata": {},
   "outputs": [],
   "source": [
    "class HomeLink:\n",
    "    def __init__(self):\n",
    "        pass\n",
    "\n",
    "    async def execute_link(self, link: Link):\n",
    "        ..."
   ]
  },
  {
   "cell_type": "code",
   "execution_count": 7,
   "metadata": {},
   "outputs": [],
   "source": [
    "class Agent:\n",
    "    def __init__(self):\n",
    "        ...\n",
    "    \n",
    "    @property\n",
    "    def config(self):\n",
    "        return self.__doc__\n"
   ]
  },
  {
   "cell_type": "code",
   "execution_count": 8,
   "metadata": {},
   "outputs": [],
   "source": [
    "\n",
    "class iMessageAgent(Agent):\n",
    "    \"\"\"\n",
    "    keywords:\n",
    "        - imessage\n",
    "        - message\n",
    "        - text\n",
    "    \"\"\"\n",
    "    def __init__(self):\n",
    "        pass\n",
    "\n",
    "ima = iMessageAgent()"
   ]
  },
  {
   "cell_type": "code",
   "execution_count": 5,
   "metadata": {},
   "outputs": [],
   "source": [
    "ima.config"
   ]
  },
  {
   "cell_type": "code",
   "execution_count": 9,
   "metadata": {},
   "outputs": [
    {
     "data": {
      "text/plain": [
       "'\\n    keywords:\\n        - imessage\\n        - message\\n        - text\\n    '"
      ]
     },
     "execution_count": 9,
     "metadata": {},
     "output_type": "execute_result"
    }
   ],
   "source": [
    "ima.__doc__"
   ]
  },
  {
   "cell_type": "code",
   "execution_count": null,
   "metadata": {},
   "outputs": [],
   "source": []
  }
 ],
 "metadata": {
  "kernelspec": {
   "display_name": "env",
   "language": "python",
   "name": "python3"
  },
  "language_info": {
   "codemirror_mode": {
    "name": "ipython",
    "version": 3
   },
   "file_extension": ".py",
   "mimetype": "text/x-python",
   "name": "python",
   "nbconvert_exporter": "python",
   "pygments_lexer": "ipython3",
   "version": "3.11.7"
  }
 },
 "nbformat": 4,
 "nbformat_minor": 2
}
